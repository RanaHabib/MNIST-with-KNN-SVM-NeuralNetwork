{
 "cells": [
  {
   "cell_type": "markdown",
   "metadata": {},
   "source": [
    "### <center> MNIST </center>\n",
    "\n",
    "This project applies KNN, SVM and ANN on MNIST dataset.\n",
    "Feature Engineering phase is first applied to the MNIST dataset by applying the HOG (histogram of oriented gradients) to the features.\n",
    "The following are the results of each Model after tweaking the hyperparameter of the model.\n",
    "\n",
    "- `Experiment 1,2,3` are all about tweaking the pixels_per_cell hyperparameter in the HOG.\n",
    "- `Experiment 4,5` are all about tweaking the K hyperparameter in the KNN classifer. with pixels_per_cell fixed to (2,2).\n",
    "- `Experiment 6,7,8` are all about tweaking the ANN by adding additional hidden layers and increasing nodes and tweaking the epochs and batch size.\n",
    "--------------------------------------------------------------------------------------------------"
   ]
  },
  {
   "cell_type": "markdown",
   "metadata": {},
   "source": [
    "## Experiment 1\n",
    "\n",
    "`KNN performance:`\n",
    "-\tAccuracy = 96% \n",
    "-\tHOG applied = False.\n",
    "-\tK = 5\n",
    "\n",
    "`SVM performance:`\n",
    "-\tHOG applied = False.\n",
    "-\tType of model = SVC (one vs all approach).\n",
    "    - Accuracy = 97%\n",
    "-\tType of model = LinearSVC (one vs one approach).\n",
    "    - Accuracy = 87%\n",
    "\n",
    "`ANN performance:`\n",
    "-\tHOG applied = False.\n",
    "- epochs=15\n",
    "- batch_size=5\n",
    "-\tAccuracy = 86%\n",
    "\n",
    "<a> file:///C:/Users/Zoey/Desktop/MNIST1.html </a>\n",
    "\n",
    "----------------------------------------------------------------------------------------------------------------------------"
   ]
  },
  {
   "cell_type": "markdown",
   "metadata": {},
   "source": [
    "## Experiment 2\n",
    "`KNN performance:`\n",
    "-\tAccuracy = 96% \n",
    "-\tHOG applied = True.\n",
    "-\tHOG  pixels_per_cell = (2, 2)\n",
    "-\tK = 5\n",
    "\n",
    "`SVM performance:`\n",
    "-\tHOG applied = True.\n",
    "-\tHOG  pixels_per_cell = (2, 2)\n",
    "-\tType of model = SVC (one vs all approach).\n",
    "    - Accuracy = 98%\n",
    "-\tType of model = LinearSVC (one vs one approach).\n",
    "    - Accuracy = 97%\n",
    "\n",
    "`ANN performance:`\n",
    "-\tHOG applied = True.\n",
    "-\tHOG  pixels_per_cell = (2, 2)\n",
    "- epochs=15\n",
    "- batch_size=5\n",
    "-\tTraining accuracy = 99%\n",
    "-\tTesting accuracy = 97%\n",
    "\n",
    "<a> file:///C:/Users/Zoey/Desktop/MNIST2.html </a>\n",
    "\n",
    "---------------------------------------------------------------------------------------------------------------------------"
   ]
  },
  {
   "cell_type": "markdown",
   "metadata": {},
   "source": [
    "## Experiment 3\n",
    "`KNN performance:`\n",
    "-\tAccuracy = 97% \n",
    "-\tHOG applied = True.\n",
    "-\tHOG  pixels_per_cell = (4, 4)\n",
    "-\tK = 5\n",
    "\n",
    "`SVM performance:`\n",
    "-\tHOG applied = True.\n",
    "-\tHOG  pixels_per_cell = (4, 4)\n",
    "-\tType of model = SVC (one vs all approach).\n",
    "    - Accuracy = 98%\n",
    "-\tType of model = LinearSVC (one vs one approach).\n",
    "    - Accuracy = 98%\n",
    "\n",
    "`ANN performance:`\n",
    "-\tHOG applied = True.\n",
    "-\tHOG  pixels_per_cell = (4, 4)\n",
    "- epochs=15\n",
    "- batch_size=5\n",
    "-\tTraining accuracy = 98%\n",
    "-\tTesting accuracy = 97%\n",
    "\n",
    "\n",
    "<a>file:///C:/Users/Zoey/Desktop/MNIST3.html</a>\n",
    "\n",
    "----------------------------------------------------------------------------------------------------------------------------"
   ]
  },
  {
   "cell_type": "markdown",
   "metadata": {},
   "source": [
    "## Experiment 4\n",
    "`KNN performance:`\n",
    "-\tAccuracy = 94% \n",
    "-\tHOG applied = True.\n",
    "-\tHOG  pixels_per_cell = (8, 8)\n",
    "-\tK = 5\n",
    "\n",
    "`SVM performance:`\n",
    "-\tHOG applied = True.\n",
    "-\tHOG  pixels_per_cell = (8, 8)\n",
    "-\tType of model = SVC (one vs all approach).\n",
    "    - Accuracy = 97%\n",
    "-\tType of model = LinearSVC (one vs one approach).\n",
    "    - Accuracy = 94%\n",
    "\n",
    "`ANN performance:`\n",
    "-\tHOG applied = True.\n",
    "-\tHOG  pixels_per_cell = (8, 8)\n",
    "- epochs=15\n",
    "- batch_size=5\n",
    "-\tTraining accuracy = 94%\n",
    "-\tTesting accuracy = 94%\n",
    "\n",
    "<a> file:///C:/Users/Zoey/Desktop/MNIST4.html </a>\n",
    "\n",
    "---------------------------------------------------------------------------------------------------------------------------"
   ]
  },
  {
   "cell_type": "markdown",
   "metadata": {},
   "source": [
    "## Experiment 5\n",
    "\n",
    "`KNN performance:`\n",
    "-\tAccuracy = 95% \n",
    "-\tHOG applied = True.\n",
    "-\tHOG  pixels_per_cell = (2, 2)\n",
    "-\tK = 10\n",
    "\n",
    "---------------------------------------------------------------------------------------------------------------------------"
   ]
  },
  {
   "cell_type": "code",
   "execution_count": null,
   "metadata": {},
   "outputs": [],
   "source": []
  }
 ],
 "metadata": {
  "kernelspec": {
   "display_name": "Python 3",
   "language": "python",
   "name": "python3"
  },
  "language_info": {
   "codemirror_mode": {
    "name": "ipython",
    "version": 3
   },
   "file_extension": ".py",
   "mimetype": "text/x-python",
   "name": "python",
   "nbconvert_exporter": "python",
   "pygments_lexer": "ipython3",
   "version": "3.7.3"
  }
 },
 "nbformat": 4,
 "nbformat_minor": 4
}

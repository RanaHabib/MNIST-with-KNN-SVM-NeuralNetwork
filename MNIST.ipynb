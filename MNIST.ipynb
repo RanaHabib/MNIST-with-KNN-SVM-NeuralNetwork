{
 "cells": [
  {
   "cell_type": "markdown",
   "metadata": {},
   "source": [
    "# MNIST DATASET applied with KNN, SVM and ANN."
   ]
  },
  {
   "cell_type": "markdown",
   "metadata": {},
   "source": [
    "### Importing libraries."
   ]
  },
  {
   "cell_type": "code",
   "execution_count": 74,
   "metadata": {
    "scrolled": true
   },
   "outputs": [],
   "source": [
    "from mlxtend.data import loadlocal_mnist\n",
    "import platform\n",
    "import pandas as pd\n",
    "import numpy as np\n",
    "from skimage.feature import hog\n",
    "from sklearn import metrics\n",
    "from sklearn import svm\n",
    "from sklearn.neighbors import KNeighborsClassifier\n",
    "import matplotlib.pyplot as plt\n",
    "from keras.layers import Dense, Flatten\n",
    "from keras.layers import Convolution2D\n",
    "from keras.layers import MaxPooling2D\n",
    "from keras.utils import to_categorical\n",
    "%matplotlib inline"
   ]
  },
  {
   "cell_type": "markdown",
   "metadata": {},
   "source": [
    "### Loading dataset."
   ]
  },
  {
   "cell_type": "code",
   "execution_count": 2,
   "metadata": {},
   "outputs": [],
   "source": [
    "X_train, y_train = loadlocal_mnist(images_path='train-images.idx3-ubyte', labels_path='train-labels.idx1-ubyte')"
   ]
  },
  {
   "cell_type": "code",
   "execution_count": 3,
   "metadata": {},
   "outputs": [],
   "source": [
    "X_test, y_test = loadlocal_mnist(images_path='t10k-images.idx3-ubyte', labels_path='t10k-labels.idx1-ubyte')"
   ]
  },
  {
   "cell_type": "markdown",
   "metadata": {},
   "source": [
    "### Applying HOG"
   ]
  },
  {
   "cell_type": "markdown",
   "metadata": {},
   "source": [
    "plt.imshow(hog_img, cmap='gray');"
   ]
  },
  {
   "cell_type": "code",
   "execution_count": 4,
   "metadata": {},
   "outputs": [],
   "source": [
    "def HOG(X, image_shape=(28, 28), pixels_per_cell=(2, 2)):\n",
    "    feature_matrix = []\n",
    "    for row in X:\n",
    "        img = row.reshape(image_shape)\n",
    "        fd = hog(img, orientations=8, pixels_per_cell=pixels_per_cell, cells_per_block=(2, 2))\n",
    "        feature_matrix.append(fd)\n",
    "    \n",
    "    return np.array(feature_matrix)"
   ]
  },
  {
   "cell_type": "code",
   "execution_count": 5,
   "metadata": {},
   "outputs": [],
   "source": [
    "Xtrain = HOG(X_train, pixels_per_cell=(2, 2))"
   ]
  },
  {
   "cell_type": "code",
   "execution_count": 6,
   "metadata": {},
   "outputs": [],
   "source": [
    "Xtest = HOG(X_test, pixels_per_cell=(2, 2))"
   ]
  },
  {
   "cell_type": "markdown",
   "metadata": {},
   "source": [
    "### Checking the shape of Xtrain and Xtest "
   ]
  },
  {
   "cell_type": "code",
   "execution_count": 7,
   "metadata": {},
   "outputs": [
    {
     "data": {
      "text/plain": [
       "(60000, 5408)"
      ]
     },
     "execution_count": 7,
     "metadata": {},
     "output_type": "execute_result"
    }
   ],
   "source": [
    "Xtrain.shape"
   ]
  },
  {
   "cell_type": "code",
   "execution_count": 8,
   "metadata": {},
   "outputs": [
    {
     "data": {
      "text/plain": [
       "(10000, 5408)"
      ]
     },
     "execution_count": 8,
     "metadata": {},
     "output_type": "execute_result"
    }
   ],
   "source": [
    "Xtest.shape"
   ]
  },
  {
   "cell_type": "markdown",
   "metadata": {},
   "source": [
    "### Applying KNN"
   ]
  },
  {
   "cell_type": "code",
   "execution_count": null,
   "metadata": {},
   "outputs": [],
   "source": [
    "KNN = KNeighborsClassifier(n_neighbors=4)"
   ]
  },
  {
   "cell_type": "code",
   "execution_count": null,
   "metadata": {},
   "outputs": [],
   "source": [
    "KNN.fit(Xtrain,y_train)"
   ]
  },
  {
   "cell_type": "code",
   "execution_count": null,
   "metadata": {},
   "outputs": [],
   "source": [
    "knn_prediction = KNN.predict(Xtest)"
   ]
  },
  {
   "cell_type": "code",
   "execution_count": null,
   "metadata": {},
   "outputs": [],
   "source": [
    "knn_prediction"
   ]
  },
  {
   "cell_type": "code",
   "execution_count": null,
   "metadata": {},
   "outputs": [],
   "source": [
    "KNN_accuracy = metrics.accuracy_score(y_test, knn_prediction)"
   ]
  },
  {
   "cell_type": "code",
   "execution_count": null,
   "metadata": {},
   "outputs": [],
   "source": [
    "KNN_accuracy"
   ]
  },
  {
   "cell_type": "markdown",
   "metadata": {},
   "source": [
    "### Applying SVM with LinearSVC"
   ]
  },
  {
   "cell_type": "code",
   "execution_count": null,
   "metadata": {},
   "outputs": [],
   "source": [
    "supportVectorModel = svm.LinearSVC()"
   ]
  },
  {
   "cell_type": "code",
   "execution_count": null,
   "metadata": {},
   "outputs": [],
   "source": [
    "supportVectorModel.fit(Xtrain, y_train)"
   ]
  },
  {
   "cell_type": "code",
   "execution_count": null,
   "metadata": {},
   "outputs": [],
   "source": [
    "SVM_predictions = supportVectorModel.predict(Xtest)"
   ]
  },
  {
   "cell_type": "code",
   "execution_count": null,
   "metadata": {},
   "outputs": [],
   "source": [
    "SVM_accuracy = metrics.accuracy_score(y_test, SVM_predictions)"
   ]
  },
  {
   "cell_type": "code",
   "execution_count": null,
   "metadata": {},
   "outputs": [],
   "source": [
    "SVM_accuracy"
   ]
  },
  {
   "cell_type": "markdown",
   "metadata": {},
   "source": [
    "### Applying SVM with SVC"
   ]
  },
  {
   "cell_type": "code",
   "execution_count": null,
   "metadata": {},
   "outputs": [],
   "source": [
    "SVCModel = svm.SVC()"
   ]
  },
  {
   "cell_type": "code",
   "execution_count": null,
   "metadata": {},
   "outputs": [],
   "source": [
    "SVCModel.fit(Xtrain, y_train)"
   ]
  },
  {
   "cell_type": "code",
   "execution_count": null,
   "metadata": {},
   "outputs": [],
   "source": [
    "SVC_predictions = SVCModel.predict(Xtest)"
   ]
  },
  {
   "cell_type": "code",
   "execution_count": null,
   "metadata": {},
   "outputs": [],
   "source": [
    "SVC_accuracy = metrics.accuracy_score(y_test, SVC_predictions)"
   ]
  },
  {
   "cell_type": "code",
   "execution_count": null,
   "metadata": {},
   "outputs": [],
   "source": [
    "SVC_accuracy"
   ]
  },
  {
   "cell_type": "markdown",
   "metadata": {},
   "source": [
    "### Setting up the shapes so it fits the neural network."
   ]
  },
  {
   "cell_type": "code",
   "execution_count": 14,
   "metadata": {},
   "outputs": [
    {
     "data": {
      "text/plain": [
       "(60000, 784)"
      ]
     },
     "execution_count": 14,
     "metadata": {},
     "output_type": "execute_result"
    }
   ],
   "source": [
    "X_train.shape"
   ]
  },
  {
   "cell_type": "code",
   "execution_count": 15,
   "metadata": {},
   "outputs": [],
   "source": [
    "temp = []\n",
    "for i in range(len(y_train)):\n",
    "    temp.append(to_categorical(y_train[i], num_classes=10))\n",
    "ytrain = np.array(temp)"
   ]
  },
  {
   "cell_type": "code",
   "execution_count": 16,
   "metadata": {},
   "outputs": [],
   "source": [
    "temp = []\n",
    "for i in range(len(y_test)):\n",
    "    temp.append(to_categorical(y_test[i], num_classes=10))\n",
    "ytest = np.array(temp)"
   ]
  },
  {
   "cell_type": "code",
   "execution_count": 19,
   "metadata": {},
   "outputs": [],
   "source": [
    "X_train = X_train.reshape(60000,28,28)\n",
    "X_test = X_test.reshape(10000,28,28)"
   ]
  },
  {
   "cell_type": "code",
   "execution_count": 20,
   "metadata": {},
   "outputs": [
    {
     "name": "stdout",
     "output_type": "stream",
     "text": [
      "(60000, 10)\n",
      "(10000, 10)\n"
     ]
    }
   ],
   "source": [
    "print(ytrain.shape)\n",
    "print(ytest.shape)"
   ]
  },
  {
   "cell_type": "code",
   "execution_count": 21,
   "metadata": {},
   "outputs": [
    {
     "name": "stdout",
     "output_type": "stream",
     "text": [
      "(60000, 5408)\n",
      "(10000, 5408)\n"
     ]
    }
   ],
   "source": [
    "print(Xtrain.shape)\n",
    "print(Xtest.shape)"
   ]
  },
  {
   "cell_type": "markdown",
   "metadata": {},
   "source": [
    "### Applying Neural Network."
   ]
  },
  {
   "cell_type": "code",
   "execution_count": 63,
   "metadata": {},
   "outputs": [],
   "source": [
    "ANN = Sequential()\n",
    "ANN.add(Dense(10, input_dim=5408, activation='relu'))\n",
    "ANN.add(Dense(10, activation='relu'))\n",
    "ANN.add(Dense(10, activation='relu'))\n",
    "ANN.add(Dense(10, activation='softmax'))"
   ]
  },
  {
   "cell_type": "code",
   "execution_count": 64,
   "metadata": {},
   "outputs": [
    {
     "name": "stdout",
     "output_type": "stream",
     "text": [
      "_________________________________________________________________\n",
      "Layer (type)                 Output Shape              Param #   \n",
      "=================================================================\n",
      "dense_41 (Dense)             (None, 10)                54090     \n",
      "_________________________________________________________________\n",
      "dense_42 (Dense)             (None, 10)                110       \n",
      "_________________________________________________________________\n",
      "dense_43 (Dense)             (None, 10)                110       \n",
      "_________________________________________________________________\n",
      "dense_44 (Dense)             (None, 10)                110       \n",
      "=================================================================\n",
      "Total params: 54,420\n",
      "Trainable params: 54,420\n",
      "Non-trainable params: 0\n",
      "_________________________________________________________________\n"
     ]
    }
   ],
   "source": [
    "ANN.summary()"
   ]
  },
  {
   "cell_type": "code",
   "execution_count": 65,
   "metadata": {},
   "outputs": [],
   "source": [
    "ANN.compile(loss='categorical_crossentropy', optimizer='Adam', metrics=['acc'])"
   ]
  },
  {
   "cell_type": "code",
   "execution_count": 70,
   "metadata": {
    "scrolled": true
   },
   "outputs": [
    {
     "name": "stdout",
     "output_type": "stream",
     "text": [
      "Epoch 1/30\n",
      "60000/60000 [==============================] - 126s 2ms/step - loss: 0.0433 - acc: 0.9881\n",
      "Epoch 2/30\n",
      "60000/60000 [==============================] - 108s 2ms/step - loss: 0.0418 - acc: 0.9880\n",
      "Epoch 3/30\n",
      "60000/60000 [==============================] - 100s 2ms/step - loss: 0.0390 - acc: 0.9887\n",
      "Epoch 4/30\n",
      "60000/60000 [==============================] - 100s 2ms/step - loss: 0.0348 - acc: 0.9895\n",
      "Epoch 5/30\n",
      "60000/60000 [==============================] - 97s 2ms/step - loss: 0.0324 - acc: 0.9908\n",
      "Epoch 6/30\n",
      "60000/60000 [==============================] - 97s 2ms/step - loss: 0.0328 - acc: 0.9903\n",
      "Epoch 7/30\n",
      "60000/60000 [==============================] - 98s 2ms/step - loss: 0.0292 - acc: 0.9914\n",
      "Epoch 8/30\n",
      "60000/60000 [==============================] - 107s 2ms/step - loss: 0.0273 - acc: 0.9920\n",
      "Epoch 9/30\n",
      "60000/60000 [==============================] - 107s 2ms/step - loss: 0.0288 - acc: 0.9919\n",
      "Epoch 10/30\n",
      "60000/60000 [==============================] - 115s 2ms/step - loss: 0.0266 - acc: 0.9924\n",
      "Epoch 11/30\n",
      "60000/60000 [==============================] - 98s 2ms/step - loss: 0.0251 - acc: 0.9924\n",
      "Epoch 12/30\n",
      "60000/60000 [==============================] - 98s 2ms/step - loss: 0.0270 - acc: 0.9928\n",
      "Epoch 13/30\n",
      "60000/60000 [==============================] - 112s 2ms/step - loss: 0.0246 - acc: 0.9930\n",
      "Epoch 14/30\n",
      "60000/60000 [==============================] - 121s 2ms/step - loss: 0.0220 - acc: 0.9936\n",
      "Epoch 15/30\n",
      "60000/60000 [==============================] - 118s 2ms/step - loss: 0.0220 - acc: 0.9940\n",
      "Epoch 16/30\n",
      "60000/60000 [==============================] - 110s 2ms/step - loss: 0.0234 - acc: 0.9940\n",
      "Epoch 17/30\n",
      "60000/60000 [==============================] - 110s 2ms/step - loss: 0.0212 - acc: 0.9940\n",
      "Epoch 18/30\n",
      "60000/60000 [==============================] - 110s 2ms/step - loss: 0.0221 - acc: 0.9940\n",
      "Epoch 19/30\n",
      "60000/60000 [==============================] - 119s 2ms/step - loss: 0.0199 - acc: 0.9945\n",
      "Epoch 20/30\n",
      "60000/60000 [==============================] - 122s 2ms/step - loss: 0.0211 - acc: 0.9949\n",
      "Epoch 21/30\n",
      "60000/60000 [==============================] - 127s 2ms/step - loss: 0.0193 - acc: 0.9948\n",
      "Epoch 22/30\n",
      "60000/60000 [==============================] - 128s 2ms/step - loss: 0.0201 - acc: 0.9948\n",
      "Epoch 23/30\n",
      "60000/60000 [==============================] - 126s 2ms/step - loss: 0.0215 - acc: 0.9945\n",
      "Epoch 24/30\n",
      "60000/60000 [==============================] - 119s 2ms/step - loss: 0.0187 - acc: 0.9950\n",
      "Epoch 25/30\n",
      "60000/60000 [==============================] - 121s 2ms/step - loss: 0.0210 - acc: 0.9950\n",
      "Epoch 26/30\n",
      "60000/60000 [==============================] - 109s 2ms/step - loss: 0.0186 - acc: 0.9954\n",
      "Epoch 27/30\n",
      "60000/60000 [==============================] - 127s 2ms/step - loss: 0.0215 - acc: 0.9950\n",
      "Epoch 28/30\n",
      "60000/60000 [==============================] - 132s 2ms/step - loss: 0.0174 - acc: 0.9957\n",
      "Epoch 29/30\n",
      "60000/60000 [==============================] - 120s 2ms/step - loss: 0.0188 - acc: 0.9957\n",
      "Epoch 30/30\n",
      "60000/60000 [==============================] - 122s 2ms/step - loss: 0.0180 - acc: 0.9959\n"
     ]
    },
    {
     "data": {
      "text/plain": [
       "<keras.callbacks.History at 0x185e69b89e8>"
      ]
     },
     "execution_count": 70,
     "metadata": {},
     "output_type": "execute_result"
    }
   ],
   "source": [
    "ANN.fit(Xtrain, ytrain, epochs=30, batch_size=2)"
   ]
  },
  {
   "cell_type": "code",
   "execution_count": 71,
   "metadata": {},
   "outputs": [
    {
     "name": "stdout",
     "output_type": "stream",
     "text": [
      "[[0.00000000e+00 1.12578113e-22 1.16250217e-13 ... 1.00000000e+00\n",
      "  3.98519764e-16 2.30787070e-10]\n",
      " [1.26209525e-23 1.06919906e-05 9.99989271e-01 ... 5.40987522e-29\n",
      "  6.93294231e-14 6.18173569e-22]\n",
      " [0.00000000e+00 1.00000000e+00 2.32480915e-14 ... 8.69358560e-24\n",
      "  1.66962500e-13 3.40563727e-25]\n",
      " ...\n",
      " [0.00000000e+00 1.88188535e-31 1.11010046e-22 ... 1.17990725e-30\n",
      "  2.30210956e-19 4.10470676e-26]\n",
      " [8.71828956e-24 7.47840368e-38 0.00000000e+00 ... 1.16953092e-33\n",
      "  3.15725406e-24 1.19030322e-17]\n",
      " [3.22009940e-27 0.00000000e+00 0.00000000e+00 ... 0.00000000e+00\n",
      "  1.09450704e-25 9.82819655e-30]]\n"
     ]
    }
   ],
   "source": [
    "predictions = ANN.predict(Xtest)\n",
    "print(predictions)"
   ]
  },
  {
   "cell_type": "code",
   "execution_count": 72,
   "metadata": {},
   "outputs": [
    {
     "name": "stdout",
     "output_type": "stream",
     "text": [
      "[7 2 1 ... 4 5 6]\n"
     ]
    }
   ],
   "source": [
    "predictions = np.argmax(predictions, axis=1)\n",
    "print(predictions)"
   ]
  },
  {
   "cell_type": "code",
   "execution_count": 73,
   "metadata": {},
   "outputs": [
    {
     "data": {
      "text/plain": [
       "0.97"
      ]
     },
     "execution_count": 73,
     "metadata": {},
     "output_type": "execute_result"
    }
   ],
   "source": [
    "ANN_accuracy = metrics.accuracy_score(y_test, predictions)\n",
    "ANN_accuracy"
   ]
  },
  {
   "cell_type": "code",
   "execution_count": null,
   "metadata": {},
   "outputs": [],
   "source": []
  },
  {
   "cell_type": "code",
   "execution_count": null,
   "metadata": {},
   "outputs": [],
   "source": []
  }
 ],
 "metadata": {
  "kernelspec": {
   "display_name": "Python 3",
   "language": "python",
   "name": "python3"
  },
  "language_info": {
   "codemirror_mode": {
    "name": "ipython",
    "version": 3
   },
   "file_extension": ".py",
   "mimetype": "text/x-python",
   "name": "python",
   "nbconvert_exporter": "python",
   "pygments_lexer": "ipython3",
   "version": "3.7.3"
  }
 },
 "nbformat": 4,
 "nbformat_minor": 4
}
